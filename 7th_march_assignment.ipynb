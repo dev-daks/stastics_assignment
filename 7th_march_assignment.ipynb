{
 "cells": [
  {
   "cell_type": "raw",
   "id": "1989c56d",
   "metadata": {},
   "source": [
    "Q1. What are the three measures of central tendency?"
   ]
  },
  {
   "cell_type": "markdown",
   "id": "3d717b0b",
   "metadata": {},
   "source": [
    "Mean: The mean is the most commonly used measure of central tendency. It is calculated by summing all the values in a dataset and dividing the sum by the total number of observations. The mean provides an average or typical value of the dataset.\n",
    "\n",
    "Median: The median is the middle value in an ordered dataset. It separates the dataset into two equal halves, with 50% of the values above and 50% below it. If there is an even number of observations, the median is the average of the two middle values.\n",
    "\n",
    "Mode: The mode is the value or values that appear most frequently in a dataset. It represents the peak or highest point of the distribution. A dataset can have no mode (when no value is repeated), one mode (unimodal), two modes (bimodal), or more modes (multimodal).\n"
   ]
  },
  {
   "cell_type": "raw",
   "id": "97aa381a",
   "metadata": {},
   "source": [
    "Q2. What is the difference between the mean, median, and mode? How are they used to measure the\n",
    "central tendency of a dataset?"
   ]
  },
  {
   "cell_type": "markdown",
   "id": "ed5fd1a4",
   "metadata": {},
   "source": [
    "Mean:\n",
    "\n",
    "Definition: The mean is the average of a dataset, calculated by summing all the values and dividing by the total number of observations.\n",
    "Calculation: Mean = (Sum of all values) / (Total number of observations)\n",
    "Use: The mean is commonly used when the dataset is approximately symmetric or normally distributed. It provides a representative value that considers all the data points. The mean is sensitive to extreme values, as they can greatly influence its value.\n",
    "Median:\n",
    "\n",
    "Definition: The median is the middle value in an ordered dataset. It separates the dataset into two equal halves, with 50% of the values above and 50% below it.\n",
    "Calculation: To find the median, the dataset must be sorted in ascending or descending order. If there is an odd number of observations, the median is the value at the exact middle position. If there is an even number of observations, the median is the average of the two middle values.\n",
    "Use: The median is preferred when the dataset is skewed or has outliers. It is a robust measure of central tendency that is not significantly affected by extreme values. The median provides a value that represents the \"typical\" position in the dataset.\n",
    "Mode:\n",
    "\n",
    "Definition: The mode is the value or values that appear most frequently in a dataset.\n",
    "Calculation: The mode is determined by identifying the value(s) with the highest frequency or count.\n",
    "Use: The mode is useful for datasets with categorical or discrete variables. It represents the most common or dominant value. The mode is particularly helpful when describing the peak(s) or the most frequent occurrence(s) in a distribution."
   ]
  },
  {
   "cell_type": "raw",
   "id": "faca73e2",
   "metadata": {},
   "source": [
    "Q3. Measure the three measures of central tendency for the given height data:\n",
    "\n",
    " [178,177,176,177,178.2,178,175,179,180,175,178.9,176.2,177,172.5,178,176.5]"
   ]
  },
  {
   "cell_type": "code",
   "execution_count": 1,
   "id": "6290c9ea",
   "metadata": {},
   "outputs": [],
   "source": [
    "l=[178,177,176,177,178.2,178,175,179,180,175,178.9,176.2,177,172.5,178,176.5]"
   ]
  },
  {
   "cell_type": "code",
   "execution_count": 2,
   "id": "3b50b662",
   "metadata": {},
   "outputs": [
    {
     "data": {
      "text/plain": [
       "177.01875"
      ]
     },
     "execution_count": 2,
     "metadata": {},
     "output_type": "execute_result"
    }
   ],
   "source": [
    "import numpy as np\n",
    "np.mean(l) # calculating mean"
   ]
  },
  {
   "cell_type": "code",
   "execution_count": 4,
   "id": "5dd205a1",
   "metadata": {},
   "outputs": [
    {
     "data": {
      "text/plain": [
       "1.7885814036548633"
      ]
     },
     "execution_count": 4,
     "metadata": {},
     "output_type": "execute_result"
    }
   ],
   "source": [
    "np.std(l) # calculating standard deviation"
   ]
  },
  {
   "cell_type": "code",
   "execution_count": 5,
   "id": "513bd784",
   "metadata": {},
   "outputs": [],
   "source": [
    "from scipy import stats"
   ]
  },
  {
   "cell_type": "code",
   "execution_count": 6,
   "id": "cbdb8994",
   "metadata": {},
   "outputs": [
    {
     "data": {
      "text/plain": [
       "ModeResult(mode=array([177.]), count=array([3]))"
      ]
     },
     "execution_count": 6,
     "metadata": {},
     "output_type": "execute_result"
    }
   ],
   "source": [
    "stats.mode(l) # calculating mode"
   ]
  },
  {
   "cell_type": "raw",
   "id": "2b29b9ea",
   "metadata": {},
   "source": [
    "Q4. Find the standard deviation for the given data:\n",
    "\n",
    "[178,177,176,177,178.2,178,175,179,180,175,178.9,176.2,177,172.5,178,176.5]"
   ]
  },
  {
   "cell_type": "code",
   "execution_count": 7,
   "id": "ea36c66d",
   "metadata": {},
   "outputs": [],
   "source": [
    "l1=[178,177,176,177,178.2,178,175,179,180,175,178.9,176.2,177,172.5,178,176.5]"
   ]
  },
  {
   "cell_type": "code",
   "execution_count": 8,
   "id": "01d9c235",
   "metadata": {},
   "outputs": [
    {
     "data": {
      "text/plain": [
       "1.7885814036548633"
      ]
     },
     "execution_count": 8,
     "metadata": {},
     "output_type": "execute_result"
    }
   ],
   "source": [
    "np.std(l1)"
   ]
  },
  {
   "cell_type": "raw",
   "id": "8f106e56",
   "metadata": {},
   "source": [
    "Q5. How are measures of dispersion such as range, variance, and standard deviation used to describe\n",
    "the spread of a dataset? Provide an example."
   ]
  },
  {
   "cell_type": "markdown",
   "id": "cd2abfd4",
   "metadata": {},
   "source": [
    "Range:\n",
    "The range is the simplest measure of dispersion and represents the difference between the maximum and minimum values in a dataset. It provides a quick understanding of the spread of the data.\n",
    "Example: Consider a dataset representing the daily temperatures in Celsius for a week: [20, 22, 19, 24, 18, 21, 23]. The range can be calculated as follows:\n",
    "Range = Maximum value - Minimum value\n",
    "Range = 24 - 18\n",
    "Range = 6\n",
    "In this example, the range of the temperature dataset is 6 degrees Celsius, indicating that the temperatures vary by 6 units over the week.\n",
    "\n",
    "Variance:\n",
    "Variance measures the average squared deviation of each data point from the mean. It quantifies the overall spread or dispersion of the dataset.\n",
    "Example: Continuing with the temperature dataset, let's calculate the variance. First, calculate the mean of the dataset:\n",
    "Mean = (20 + 22 + 19 + 24 + 18 + 21 + 23) / 7\n",
    "Mean = 21\n",
    "Next, calculate the squared difference between each data point and the mean, and then calculate the average of these squared differences:\n",
    "Variance = [(20 - 21)^2 + (22 - 21)^2 + (19 - 21)^2 + (24 - 21)^2 + (18 - 21)^2 + (21 - 21)^2 + (23 - 21)^2] / 7\n",
    "Variance = (1 + 1 + 4 + 9 + 9 + 0 + 4) / 7\n",
    "Variance ≈ 4.43\n",
    "The variance of the temperature dataset is approximately 4.43 square degrees Celsius.\n",
    "\n",
    "Standard Deviation:\n",
    "The standard deviation is the square root of the variance and provides a more interpretable measure of dispersion. It indicates the typical amount of deviation or spread from the mean.\n",
    "Example: Using the variance value calculated above, we can find the standard deviation:\n",
    "Standard Deviation = √(Variance)\n",
    "Standard Deviation = √(4.43)\n",
    "Standard Deviation ≈ 2.10\n",
    "The standard deviation of the temperature dataset is approximately 2.10 degrees Celsius, which represents the typical amount of deviation from the mean temperature."
   ]
  },
  {
   "cell_type": "raw",
   "id": "e1e4a602",
   "metadata": {},
   "source": [
    "Q6. What is a Venn diagram?"
   ]
  },
  {
   "cell_type": "markdown",
   "id": "c24256c4",
   "metadata": {},
   "source": [
    "A Venn diagram is a visual representation of the relationships and overlaps between different sets or groups of objects or concepts. It uses overlapping circles or other shapes to depict the common and distinct elements among the sets being compared.\n",
    "\n",
    "In a Venn diagram, each set is represented by a circle or shape, and the overlapping regions represent the elements that are shared or common between the sets. The non-overlapping regions within each circle represent the elements that are unique to that particular set.\n",
    "\n",
    "Venn diagrams are commonly used to illustrate concepts related to set theory, logic, and categorical relationships. They provide a visual way to understand the relationships between different groups or categories and identify the intersection and differences among them"
   ]
  },
  {
   "cell_type": "raw",
   "id": "d528e743",
   "metadata": {},
   "source": [
    "Q7. For the two given sets A = (2,3,4,5,6,7) & B = (0,2,6,8,10). Find:{\n",
    "(i) \tA B\n",
    "\n",
    "(ii)\tA ⋃ B\n",
    "("
   ]
  },
  {
   "cell_type": "markdown",
   "id": "fa76353d",
   "metadata": {},
   "source": [
    "# solution"
   ]
  },
  {
   "cell_type": "code",
   "execution_count": 12,
   "id": "1f34483a",
   "metadata": {},
   "outputs": [
    {
     "data": {
      "text/plain": [
       "{2, 6}"
      ]
     },
     "execution_count": 12,
     "metadata": {},
     "output_type": "execute_result"
    }
   ],
   "source": [
    "a={2,3,4,5,6,7}\n",
    "b={0,2,6,8,10}\n",
    "#a intersection b\n",
    "a.intersection(b)"
   ]
  },
  {
   "cell_type": "code",
   "execution_count": 13,
   "id": "b3a1e540",
   "metadata": {},
   "outputs": [
    {
     "data": {
      "text/plain": [
       "{0, 2, 3, 4, 5, 6, 7, 8, 10}"
      ]
     },
     "execution_count": 13,
     "metadata": {},
     "output_type": "execute_result"
    }
   ],
   "source": [
    "# union\n",
    "a.union(b)"
   ]
  },
  {
   "cell_type": "raw",
   "id": "e7c9a598",
   "metadata": {},
   "source": [
    "Q8. What do you understand about skewness in data?"
   ]
  },
  {
   "cell_type": "markdown",
   "id": "5ce7c218",
   "metadata": {},
   "source": [
    "\n",
    "Skewness is a statistical measure that describes the asymmetry or departure from symmetry in a dataset's distribution. It indicates the extent to which the data deviates from a symmetrical or bell-shaped distribution."
   ]
  },
  {
   "cell_type": "raw",
   "id": "a03110a8",
   "metadata": {},
   "source": [
    "Q9. If a data is right skewed then what will be the position of median with respect to mean?"
   ]
  },
  {
   "cell_type": "markdown",
   "id": "4da30f0a",
   "metadata": {},
   "source": [
    "In a right-skewed distribution, the tail of the distribution extends towards the right, indicating that the majority of the data points are concentrated on the left side. The mean is influenced by the presence of extreme values in the right tail, pulling it towards higher values. On the other hand, the median represents the middle value in the dataset and is less affected by extreme values.\n",
    "\n",
    "In right-skewed data, the median is typically less than the mean. This occurs because the median is more resistant to the influence of extreme values, which are more likely to be present on the right side of the distribution. The concentration of data towards the left side causes the median to be pulled towards lower values, resulting in a position to the left of the mean.\n",
    "\n",
    "To summarize:\n",
    "\n",
    "Right-skewed data: Median < Mean"
   ]
  },
  {
   "cell_type": "raw",
   "id": "8a86a58f",
   "metadata": {},
   "source": [
    "Q10. Explain the difference between covariance and correlation. How are these measures used in\n",
    "statistical analysis?"
   ]
  },
  {
   "cell_type": "markdown",
   "id": "b6009558",
   "metadata": {},
   "source": [
    "Covariance:\n",
    "Covariance measures the extent to which two variables vary together. It assesses the linear relationship between two variables by calculating the average of the product of the deviations of each variable from their respective means. Covariance can be positive, indicating a positive relationship, or negative, indicating a negative relationship.\n",
    "\n",
    "However, the magnitude of covariance is not easily interpretable as it depends on the units of the variables. Therefore, covariance alone does not provide a standardized measure of the strength or direction of the relationship.\n",
    "\n",
    "Covariance formula:\n",
    "cov(X, Y) = Σ((X - μX)(Y - μY)) / n\n",
    "\n",
    "Correlation:\n",
    "Correlation, on the other hand, is a standardized measure of the linear relationship between two variables. It quantifies both the strength and direction of the relationship. Correlation ranges between -1 and 1, where -1 indicates a perfect negative linear relationship, 1 indicates a perfect positive linear relationship, and 0 indicates no linear relationship.\n",
    "\n",
    "Correlation adjusts for differences in scale and provides a more interpretable measure of the relationship. It allows for meaningful comparisons of relationships across different datasets and variables.\n",
    "\n",
    "Correlation formula:\n",
    "cor(X, Y) = cov(X, Y) / (σX * σY)\n",
    "\n",
    "Uses in Statistical Analysis:\n",
    "Covariance and correlation are widely used in statistical analysis for different purposes:\n",
    "\n",
    "Covariance: Covariance is useful in determining the direction (positive or negative) and strength of the relationship between two variables. It is used in various statistical techniques, such as linear regression and portfolio analysis, to understand the relationship and potential dependencies between variables.\n",
    "\n",
    "Correlation: Correlation is extensively used to assess the strength and direction of the linear relationship between variables. It helps in identifying patterns, making predictions, and understanding the degree of association. Correlation is commonly employed in fields like finance, social sciences, and data analysis to determine the relationships between variables and to guide decision-making."
   ]
  },
  {
   "cell_type": "raw",
   "id": "b3518c88",
   "metadata": {},
   "source": [
    "Q11. What is the formula for calculating the sample mean? Provide an example calculation for a\n",
    "dataset."
   ]
  },
  {
   "cell_type": "markdown",
   "id": "c28f2610",
   "metadata": {},
   "source": [
    "The formula for calculating the sample mean, denoted as \"x̄\" (pronounced x-bar), is as follows:\n",
    "\n",
    "Sample Mean (x̄) = (Sum of all data points) / (Number of data points)\n",
    "\n",
    "To calculate the sample mean, you add up all the values in the dataset and divide the sum by the total number of data points.\n",
    "\n",
    "Here's an example calculation:\n",
    "\n",
    "Consider the following dataset of test scores: [85, 90, 92, 88, 95]\n",
    "\n",
    "To calculate the sample mean, add up all the values in the dataset and divide by the number of data points (in this case, 5):\n",
    "\n",
    "Sample Mean (x̄) = (85 + 90 + 92 + 88 + 95) / 5\n",
    "= 450 / 5\n",
    "= 90\n",
    "\n",
    "Therefore, the sample mean for this dataset is 90.\n",
    "\n",
    "Note that the sample mean represents the average value of the data points in the sample. It is an estimator for the population mean when using a sample to estimate the characteristics of a larger population."
   ]
  },
  {
   "cell_type": "raw",
   "id": "ff606931",
   "metadata": {},
   "source": [
    "Q12. For a normal distribution data what is the relationship between its measure of central tendency?\n",
    "\n"
   ]
  },
  {
   "cell_type": "markdown",
   "id": "72b981c1",
   "metadata": {},
   "source": [
    "For a normal distribution, the measures of central tendency—mean, median, and mode—are all equal to each other. In other words, they have the same value."
   ]
  },
  {
   "cell_type": "raw",
   "id": "a368f9d4",
   "metadata": {},
   "source": [
    "Q13. How is covariance different from correlation?"
   ]
  },
  {
   "cell_type": "markdown",
   "id": "06eace21",
   "metadata": {},
   "source": [
    "Covariance measures the extent and direction of the linear relationship between two variables. It quantifies how changes in one variable correspond to changes in another variable. However, the magnitude of covariance is not easily interpretable, as it depends on the units of the variables being measured.\n",
    "\n",
    "Correlation, on the other hand, is a standardized measure of the linear relationship between two variables. It not only captures the strength and direction of the relationship but also provides a more interpretable measure by scaling the values between -1 and 1. A correlation value of -1 indicates a perfect negative linear relationship, 1 indicates a perfect positive linear relationship, and 0 indicates no linear relationship.\n",
    "\n",
    "Scale and Units:\n",
    "Covariance is affected by the scale of the variables since it involves multiplying the deviations from the means of the two variables. Therefore, the magnitude of covariance can vary depending on the units of measurement. This makes it difficult to compare covariance across different datasets or variables.\n",
    "\n",
    "Correlation, being a standardized measure, is not influenced by the scale or units of the variables. It provides a consistent measure of the strength and direction of the linear relationship, making it easier to compare correlations across different datasets or variables.\n",
    "\n",
    "Range of Values:\n",
    "Covariance can take any value, positive or negative, depending on the nature of the relationship between the variables. A positive covariance indicates a positive relationship, a negative covariance indicates a negative relationship, and a covariance of 0 indicates no linear relationship.\n",
    "\n",
    "Correlation ranges between -1 and 1. A correlation of -1 indicates a perfect negative linear relationship, 1 indicates a perfect positive linear relationship, and 0 indicates no linear relationship. The magnitude of the correlation value indicates the strength of the linear relationship.\n",
    "\n",
    "Interpretation and Use:\n",
    "Covariance is primarily used to determine the direction (positive or negative) and strength of the linear relationship between two variables. It helps in understanding the joint variability and dependency between the variables. However, due to its unit-dependency, covariance is not widely used to compare relationships across different datasets or variables.\n",
    "\n",
    "Correlation is extensively used to assess the strength and direction of the linear relationship between variables. It provides a standardized measure that is easily interpretable and allows for meaningful comparisons across datasets or variables. Correlation is widely used in fields such as finance, social sciences, and data analysis to determine relationships and guide decision-making."
   ]
  },
  {
   "cell_type": "raw",
   "id": "c0aeb0e2",
   "metadata": {},
   "source": [
    "Q14. How do outliers affect measures of central tendency and dispersion? Provide an example."
   ]
  },
  {
   "cell_type": "markdown",
   "id": "0ce5b81c",
   "metadata": {},
   "source": [
    "Measures of Central Tendency:\n",
    "Outliers can have a substantial impact on measures of central tendency such as the mean, while their effect on the median and mode is relatively minimal.\n",
    "\n",
    "Mean: Outliers, especially extreme values, can pull the mean towards them, affecting its value significantly. This is because the mean is calculated by summing all the values and dividing by the total number of observations. Outliers can distort the average, resulting in a measure that does not represent the typical value of the majority of the data.\n",
    "\n",
    "Median: The median, being the middle value in an ordered dataset, is less affected by outliers. Outliers have little influence on the position of the median, as it is not influenced by extreme values. Thus, the median provides a more robust measure of central tendency in the presence of outliers.\n",
    "\n",
    "Mode: Outliers generally have no direct impact on the mode, as it represents the most frequently occurring value(s). Outliers that do not align with the majority of the data do not affect the mode, which remains the same as before.\n",
    "\n",
    "Measures of Dispersion:\n",
    "Outliers can significantly impact measures of dispersion, such as the range, variance, and standard deviation:\n",
    "\n",
    "Range: Outliers can drastically affect the range, as it is determined by the difference between the maximum and minimum values in the dataset. Even a single outlier can substantially widen the range, giving a misleading measure of the spread of the central data.\n",
    "\n",
    "Variance and Standard Deviation: Outliers can heavily influence both the variance and standard deviation, as these measures take into account the squared deviations from the mean. Outliers that deviate significantly from the mean contribute disproportionately to the overall variability, resulting in larger values for variance and standard deviation.\n",
    "\n",
    "Example:\n",
    "Let's consider a dataset representing the salaries (in thousands) of employees in a company:\n",
    "\n",
    "100, 120, 110, 150, 130, 140, 125, 135, 200\n",
    "\n",
    "If an outlier exists, such as a salary of $200, it can significantly impact the measures of central tendency and dispersion:\n",
    "\n",
    "Mean: The outlier pulls the mean towards it, resulting in a higher average salary compared to the majority of the data.\n",
    "\n",
    "Median: The median remains unaffected by the outlier, as it represents the middle value, which is not influenced by extreme values.\n",
    "\n",
    "Range: The range is increased by the outlier, as the difference between the maximum and minimum values is wider due to the outlier's presence.\n",
    "\n",
    "Variance and Standard Deviation: The outlier contributes to increased variability, resulting in larger values for variance and standard deviation, indicating a greater spread in the data."
   ]
  },
  {
   "cell_type": "code",
   "execution_count": null,
   "id": "48eab3cc",
   "metadata": {},
   "outputs": [],
   "source": []
  }
 ],
 "metadata": {
  "kernelspec": {
   "display_name": "Python 3 (ipykernel)",
   "language": "python",
   "name": "python3"
  },
  "language_info": {
   "codemirror_mode": {
    "name": "ipython",
    "version": 3
   },
   "file_extension": ".py",
   "mimetype": "text/x-python",
   "name": "python",
   "nbconvert_exporter": "python",
   "pygments_lexer": "ipython3",
   "version": "3.9.12"
  }
 },
 "nbformat": 4,
 "nbformat_minor": 5
}
