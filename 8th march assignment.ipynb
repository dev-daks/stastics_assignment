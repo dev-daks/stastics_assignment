{
 "cells": [
  {
   "cell_type": "raw",
   "id": "adea6206",
   "metadata": {},
   "source": [
    "Q1. What is the Probability density function?"
   ]
  },
  {
   "cell_type": "markdown",
   "id": "7bedb88a",
   "metadata": {},
   "source": [
    "The Probability Density Function (PDF) is a fundamental concept in probability and statistics. It is used to describe the probability distribution of a continuous random variable. In simpler terms, the PDF is a function that helps us understand the likelihood of a continuous random variable taking on a particular value within a given range.\n",
    "\n",
    "For a continuous random variable X, the PDF is denoted by f(x) and is defined such that the probability of X falling within a specific interval [a, b] can be calculated by integrating the PDF over that interval:\n",
    "\n",
    "P(a ≤ X ≤ b) = ∫[a to b] f(x) dx"
   ]
  },
  {
   "cell_type": "raw",
   "id": "665171d1",
   "metadata": {},
   "source": [
    "Q2. What are the types of Probability distribution?"
   ]
  },
  {
   "cell_type": "markdown",
   "id": "e46ea907",
   "metadata": {},
   "source": [
    "Discrete Probability Distribution:\n",
    "\n",
    "Probability Mass Function (PMF): This type of distribution is used for discrete random variables, where the random variable can only take on specific, distinct values with probabilities assigned to each value. The PMF gives the probability of each possible outcome.\n",
    "Examples: Binomial distribution, Poisson distribution, Geometric distribution.\n",
    "Continuous Probability Distribution:\n",
    "\n",
    "Probability Density Function (PDF): Continuous distributions are used for continuous random variables, where the random variable can take on any value within a specified range. The PDF gives the probability of the random variable falling within a particular interval.\n",
    "Examples: Normal (Gaussian) distribution, Uniform distribution, Exponential distribution.\n",
    "Mixed Probability Distribution:\n",
    "\n",
    "Some distributions have both continuous and discrete components. They are called mixed distributions.\n",
    "Example: Compound Poisson distribution.\n",
    "Some common probability distributions include:\n",
    "\n",
    "Normal (Gaussian) distribution: Describes many natural phenomena and is often used in statistical inference.\n",
    "Binomial distribution: Used for counting the number of successes in a fixed number of independent Bernoulli trials.\n",
    "Poisson distribution: Models the number of events that occur in a fixed interval of time or space.\n",
    "Exponential distribution: Represents the time between events in a Poisson process (e.g., time between arrivals of customers at a service center).\n",
    "Uniform distribution: Provides a constant probability over a specified range, where all values are equally likely."
   ]
  },
  {
   "cell_type": "raw",
   "id": "a6fbab01",
   "metadata": {},
   "source": [
    "Q3. Write a Python function to calculate the probability density function of a normal distribution with\n",
    "given mean and standard deviation at a given point.\n",
    "\n"
   ]
  },
  {
   "cell_type": "code",
   "execution_count": 1,
   "id": "489af7f9",
   "metadata": {},
   "outputs": [
    {
     "name": "stdout",
     "output_type": "stream",
     "text": [
      "The PDF at x = 1.5 is 0.1295\n"
     ]
    }
   ],
   "source": [
    "import math\n",
    "\n",
    "def normal_pdf(x, mean, std_dev):\n",
    "    coefficient = 1 / (std_dev * math.sqrt(2 * math.pi))\n",
    "    exponent = -((x - mean) ** 2) / (2 * std_dev ** 2)\n",
    "    pdf_value = coefficient * math.exp(exponent)\n",
    "    return pdf_value\n",
    "\n",
    "# Example usage:\n",
    "mean = 0  # Mean of the normal distribution\n",
    "std_dev = 1  # Standard deviation of the normal distribution\n",
    "x = 1.5  # The point at which to calculate the PDF\n",
    "\n",
    "pdf_at_x = normal_pdf(x, mean, std_dev)\n",
    "print(f\"The PDF at x = {x} is {pdf_at_x:.4f}\")"
   ]
  },
  {
   "cell_type": "raw",
   "id": "7092ac05",
   "metadata": {},
   "source": [
    "Q4. What are the properties of Binomial distribution? Give two examples of events where binomial\n",
    "distribution can be applied"
   ]
  },
  {
   "cell_type": "markdown",
   "id": "0d42084d",
   "metadata": {},
   "source": [
    "The Binomial distribution is a discrete probability distribution that models the number of successes in a fixed number of independent Bernoulli trials, where each trial has two possible outcomes (success or failure) and the probability of success remains constant for all trials. The properties of the Binomial distribution are as follows:\n",
    "\n",
    "Fixed number of trials: The number of trials (n) is fixed in advance and remains constant throughout the process.\n",
    "\n",
    "Independent trials: Each trial is independent of the others, meaning the outcome of one trial does not affect the outcome of another.\n",
    "\n",
    "Two outcomes: Each trial has only two possible outcomes, typically denoted as \"success\" and \"failure.\"\n",
    "\n",
    "Constant probability: The probability of success (p) remains constant from trial to trial.\n",
    "\n",
    "Discrete distribution: The Binomial distribution deals with discrete random variables, representing whole numbers.\n",
    "\n",
    "The probability mass function (PMF) of the Binomial distribution is given by:\n",
    "\n",
    "P(X = k) = C(n, k) * p^k * (1 - p)^(n - k)\n",
    "\n",
    "where:\n",
    "\n",
    "X is the random variable representing the number of successes,\n",
    "k is the number of successes we want to find the probability for (0 ≤ k ≤ n),\n",
    "n is the number of trials,\n",
    "p is the probability of success on each trial,\n",
    "C(n, k) is the binomial coefficient, also known as \"n choose k,\" which is the number of ways to choose k successes from n trials, and is calculated as C(n, k) = n! / (k! * (n - k)!).\n",
    "Examples of events where the Binomial distribution can be applied:\n",
    "\n",
    "Coin Flips: Consider flipping a fair coin (where the probability of getting heads is 0.5) 10 times. The number of heads obtained in these 10 flips can be modeled using a Binomial distribution with n = 10 and p = 0.5.\n",
    "\n",
    "Product Defects: A manufacturing process produces items with a known probability of being defective. For instance, let's say a company produces light bulbs, and each bulb has a 5% chance of being defective. If we inspect 100 bulbs randomly, the number of defective bulbs can be described using a Binomial distribution with n = 100 and p = 0.05."
   ]
  },
  {
   "cell_type": "raw",
   "id": "8f5a20d7",
   "metadata": {},
   "source": [
    "Q5. Generate a random sample of size 1000 from a binomial distribution with probability of success 0.4\n",
    "and plot a histogram of the results using matplotlib.\n",
    "\n"
   ]
  },
  {
   "cell_type": "code",
   "execution_count": 2,
   "id": "18eb9725",
   "metadata": {},
   "outputs": [
    {
     "data": {
      "image/png": "[encoded data removed]",
      "text/plain": [
       "<Figure size 432x288 with 1 Axes>"
      ]
     },
     "metadata": {
      "needs_background": "light"
     },
     "output_type": "display_data"
    }
   ],
   "source": [
    "import numpy as np\n",
    "import matplotlib.pyplot as plt\n",
    "\n",
    "# Parameters for the Binomial distribution\n",
    "n = 1000  # Number of trials\n",
    "p = 0.4   # Probability of success\n",
    "\n",
    "# Generate the random sample from the Binomial distribution\n",
    "random_sample = np.random.binomial(n, p, size=1000)\n",
    "\n",
    "# Plot the histogram of the random sample\n",
    "plt.hist(random_sample, bins=20, edgecolor='black', alpha=0.75)\n",
    "plt.xlabel('Number of Successes')\n",
    "plt.ylabel('Frequency')\n",
    "plt.title('Histogram of Random Sample from Binomial Distribution')\n",
    "plt.grid(True)\n",
    "plt.show()"
   ]
  },
  {
   "cell_type": "raw",
   "id": "ee9ac4a2",
   "metadata": {},
   "source": [
    "Q6. Write a Python function to calculate the cumulative distribution function of a Poisson distribution\n",
    "with given mean at a given point."
   ]
  },
  {
   "cell_type": "code",
   "execution_count": 3,
   "id": "df0dc67e",
   "metadata": {},
   "outputs": [
    {
     "name": "stdout",
     "output_type": "stream",
     "text": [
      "The CDF at x = 2 is 0.3208\n"
     ]
    }
   ],
   "source": [
    "import math\n",
    "\n",
    "def poisson_cdf(x, mean):\n",
    "    cdf_value = 0.0\n",
    "    for k in range(x + 1):\n",
    "        cdf_value += math.exp(-mean) * (mean ** k) / math.factorial(k)\n",
    "    return cdf_value\n",
    "\n",
    "# Example usage:\n",
    "mean = 3.5  # Mean of the Poisson distribution\n",
    "x = 2  # The point at which to calculate the CDF\n",
    "\n",
    "cdf_at_x = poisson_cdf(x, mean)\n",
    "print(f\"The CDF at x = {x} is {cdf_at_x:.4f}\")"
   ]
  },
  {
   "cell_type": "raw",
   "id": "1c06becc",
   "metadata": {},
   "source": [
    "Q7. How Binomial distribution different from Poisson distribution?"
   ]
  },
  {
   "cell_type": "markdown",
   "id": "d16614a5",
   "metadata": {},
   "source": [
    "The Binomial distribution and the Poisson distribution are both probability distributions that describe the number of events or successes in a series of independent trials. However, they have distinct characteristics and are applicable to different scenarios. Here are the main differences between the two distributions:\n",
    "\n",
    "Nature of Trials:\n",
    "\n",
    "Binomial Distribution: The Binomial distribution deals with a fixed number of independent trials, where each trial has only two possible outcomes (success or failure). The probability of success remains constant for all trials.\n",
    "Poisson Distribution: The Poisson distribution, on the other hand, deals with an infinite or very large number of trials, where the events occur over a continuous time or space interval. Each event is independent, and the probability of an event occurring in a small interval is proportional to the size of the interval.\n",
    "Number of Possible Outcomes:\n",
    "\n",
    "Binomial Distribution: In the Binomial distribution, there are only two possible outcomes for each trial, usually denoted as \"success\" or \"failure.\"\n",
    "Poisson Distribution: The Poisson distribution deals with a count of events occurring in a given interval, and the number of possible outcomes is infinite (all non-negative integers).\n",
    "Parameters:\n",
    "\n",
    "Binomial Distribution: The Binomial distribution is characterized by two parameters: the number of trials (n) and the probability of success in each trial (p).\n",
    "Poisson Distribution: The Poisson distribution is characterized by a single parameter, the average rate of events (λ), which represents the mean number of events occurring in a given interval.\n",
    "Applications:\n",
    "\n",
    "Binomial Distribution: The Binomial distribution is commonly used in situations where there is a fixed number of trials with a constant probability of success, such as counting the number of successes in a fixed number of coin tosses or counting the number of defective items in a fixed-size sample from a production line.\n",
    "Poisson Distribution: The Poisson distribution is used when we want to model the number of events occurring in a continuous interval of time or space, such as the number of customers arriving at a store per hour or the number of accidents on a particular road in a day.\n",
    "Limiting Behavior:\n",
    "\n",
    "As the number of trials (n) in the Binomial distribution becomes very large, and the probability of success (p) becomes very small, it can converge to a Poisson distribution under certain conditions."
   ]
  },
  {
   "cell_type": "code",
   "execution_count": 4,
   "id": "338ddc02",
   "metadata": {},
   "outputs": [
    {
     "name": "stdout",
     "output_type": "stream",
     "text": [
      "Sample Mean: 5.085\n",
      "Sample Variance: 4.977774999999999\n"
     ]
    }
   ],
   "source": [
    "import numpy as np\n",
    "\n",
    "# Parameters for the Poisson distribution\n",
    "mean = 5\n",
    "\n",
    "# Generate the random sample from the Poisson distribution\n",
    "sample_size = 1000\n",
    "random_sample = np.random.poisson(mean, size=sample_size)\n",
    "\n",
    "# Calculate the sample mean and variance\n",
    "sample_mean = np.mean(random_sample)\n",
    "sample_variance = np.var(random_sample)\n",
    "\n",
    "print(\"Sample Mean:\", sample_mean)\n",
    "print(\"Sample Variance:\", sample_variance)"
   ]
  },
  {
   "cell_type": "raw",
   "id": "978cf4c5",
   "metadata": {},
   "source": [
    "Q9. How mean and variance are related in Binomial distribution and Poisson distribution?"
   ]
  },
  {
   "cell_type": "markdown",
   "id": "bfd0fa3e",
   "metadata": {},
   "source": [
    "n both the Binomial distribution and the Poisson distribution, the mean and variance are related to the parameters of the respective distributions. Understanding this relationship helps to better grasp the behavior and characteristics of these probability distributions.\n",
    "\n",
    "Binomial Distribution:\n",
    "For a Binomial distribution with parameters n (number of trials) and p (probability of success in each trial), the mean (μ) and variance (σ^2) are related as follows:\n",
    "\n",
    "Mean (μ) = n * p\n",
    "Variance (σ^2) = n * p * (1 - p)\n",
    "\n",
    "In the Binomial distribution, the mean represents the expected number of successes in n trials, where each trial has a probability p of success. The variance measures the spread or dispersion of the distribution around the mean. It quantifies how much the actual outcomes deviate from the expected number of successes.\n",
    "\n",
    "Poisson Distribution:\n",
    "For a Poisson distribution with a parameter λ (average rate of events occurring in a fixed interval of time or space), the mean (μ) and variance (σ^2) are related as follows:\n",
    "\n",
    "Mean (μ) = λ\n",
    "Variance (σ^2) = λ\n",
    "\n",
    "In the Poisson distribution, both the mean and the variance are equal to the parameter λ. The mean represents the average number of events occurring in the given interval, and the variance is also λ, which means that the spread of the distribution is equal to its mean.\n",
    "\n",
    "Comparison of Mean and Variance in Binomial and Poisson Distributions:\n",
    "\n",
    "Binomial Distribution:\n",
    "\n",
    "The mean of the Binomial distribution is directly related to the number of trials (n) and the probability of success (p).\n",
    "The variance of the Binomial distribution is affected by both the number of trials (n) and the probability of success (p). The larger the value of n and the closer p is to 0.5, the smaller the variance.\n",
    "Poisson Distribution:\n",
    "\n",
    "The mean of the Poisson distribution is equal to the parameter λ, which represents the average rate of events in the given interval.\n",
    "The variance of the Poisson distribution is also equal to λ, indicating that the spread of the distribution is the same as its mean."
   ]
  },
  {
   "cell_type": "raw",
   "id": "d21b555a",
   "metadata": {},
   "source": [
    "Q10. In normal distribution with respect to mean position, where does the least frequent data appear?"
   ]
  },
  {
   "cell_type": "markdown",
   "id": "619e8ce1",
   "metadata": {},
   "source": [
    "In a normal distribution, also known as a Gaussian distribution, the least frequent data points appear at the tails of the distribution. The normal distribution is a symmetric probability distribution, meaning it is perfectly balanced around its mean (μ). The tails of the distribution extend to negative infinity on the left and positive infinity on the right, with the mean as the central point.\n",
    "\n",
    "Since the normal distribution is continuous, the probability of obtaining a specific value is infinitesimally small. However, as you move away from the mean towards the tails, the probabilities decrease, and the data becomes less frequent. The data points in the tails are farthest from the mean and represent extreme values.\n",
    "\n",
    "For a standard normal distribution (with a mean of 0 and a standard deviation of 1), about 68% of the data falls within one standard deviation from the mean, about 95% falls within two standard deviations, and about 99.7% falls within three standard deviations. This means that the remaining 32%, 5%, and 0.3% of the data are in the left tail, right tail, and beyond three standard deviations from the mean, respectively."
   ]
  },
  {
   "cell_type": "code",
   "execution_count": null,
   "id": "805549bc",
   "metadata": {},
   "outputs": [],
   "source": []
  }
 ],
 "metadata": {
  "kernelspec": {
   "display_name": "Python 3 (ipykernel)",
   "language": "python",
   "name": "python3"
  },
  "language_info": {
   "codemirror_mode": {
    "name": "ipython",
    "version": 3
   },
   "file_extension": ".py",
   "mimetype": "text/x-python",
   "name": "python",
   "nbconvert_exporter": "python",
   "pygments_lexer": "ipython3",
   "version": "3.9.12"
  }
 },
 "nbformat": 4,
 "nbformat_minor": 5
}
