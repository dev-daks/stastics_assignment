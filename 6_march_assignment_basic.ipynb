{
 "cells": [
  {
   "cell_type": "markdown",
   "id": "0dfa6139",
   "metadata": {},
   "source": [
    "Q1. What is Statistics?"
   ]
  },
  {
   "cell_type": "raw",
   "id": "e3589d7d",
   "metadata": {},
   "source": [
    "Statistics is a field of study and a branch of mathematics that involves collecting, analyzing, interpreting, presenting, and organizing data. It provides methods and techniques for understanding and making sense of data to draw meaningful conclusions, make informed decisions, and solve real-world problems."
   ]
  },
  {
   "cell_type": "markdown",
   "id": "641e720b",
   "metadata": {},
   "source": [
    "Q2. Define the different types of statistics and give an example of when each type might be used."
   ]
  },
  {
   "cell_type": "raw",
   "id": "7c56d35e",
   "metadata": {},
   "source": [
    "Descriptive Statistics:\n",
    "\n",
    "\n",
    "Descriptive statistics involve summarizing and describing data using measures such as central tendency (mean, median, mode) and variability (standard deviation, range). Descriptive statistics provide a snapshot of the data and allow for a better understanding of its main characteristics. Examples of when descriptive statistics might be used include:\n",
    "A company analyzing the average sales revenue per month to understand the overall trend and variability in sales.\n",
    "A researcher calculating the mean and standard deviation of test scores in a class to describe the performance of the students.\n",
    "An economist using median income and interquartile range to describe the distribution of income levels in a population.\n",
    "\n",
    "\n",
    "Inferential Statistics:\n",
    "\n",
    "\n",
    "Inferential statistics involve using sample data to make inferences or draw conclusions about a larger population. Inferential statistics utilize probability theory and hypothesis testing to make predictions or generalizations. Examples of when inferential statistics might be used include:A political pollster surveying a sample of voters to estimate the proportion of the population that supports a particular candidate.\n",
    "A pharmaceutical company conducting a clinical trial on a small sample of patients to make inferences about the effectiveness of a new drug for a larger population.\n",
    "A researcher using a t-test to compare the means of two groups and determine if there is a statistically significant difference between them."
   ]
  },
  {
   "cell_type": "markdown",
   "id": "4d002fa2",
   "metadata": {},
   "source": [
    "Q3. What are the different types of data and how do they differ from each other? Provide an example of\n",
    "each type of data."
   ]
  },
  {
   "cell_type": "markdown",
   "id": "4473cdbc",
   "metadata": {},
   "source": [
    "1.Nominal Data:\n",
    "Nominal data is categorical data that consists of categories or labels without any inherent order or numerical value. The categories are distinct and mutually exclusive. Examples of nominal data include:\n",
    "Types of fruits: apple, banana, orange.\n",
    "Marital status: married, single, divorced.\n",
    "Colors: red, blue, green.\n",
    "\n",
    "2.Ordinal Data:\n",
    "Ordinal data represents categories that have a natural order or ranking, but the intervals between categories may not be equal. It allows for relative comparisons, but not precise measurements. Examples of ordinal data include:\n",
    "Ratings of a movie: excellent, good, fair, poor.\n",
    "Educational attainment: high school diploma, bachelor's degree, master's degree.\n",
    "Survey responses indicating agreement level: strongly agree, agree, neutral, disagree, strongly disagree.\n",
    "\n",
    "3..Interval Data:\n",
    "Interval data has ordered categories with equal intervals between values, but it does not have a true zero point. The absence of a zero does not indicate the absence of the attribute being measured. Examples of interval data include:\n",
    "Temperatures in degrees Celsius or Fahrenheit: 20°C, 30°C, 40°C.\n",
    "Years: 1990, 2000, 2010.\n",
    "Likert scale responses with equal intervals: 1 (strongly disagree), 2, 3, 4, 5 (strongly agree).\n",
    "\n",
    "4..Ratio Data:\n",
    "Ratio data has ordered categories with equal intervals and a true zero point, meaning zero represents the absence of the attribute being measured. It allows for meaningful ratios and precise measurements. Examples of ratio data include:\n",
    "Age: 10 years old, 20 years old, 30 years old.\n",
    "Height: 150 cm, 170 cm, 190 cm.\n",
    "Weight: 50 kg, 70 kg, 90 kg.\n"
   ]
  },
  {
   "cell_type": "raw",
   "id": "32003483",
   "metadata": {},
   "source": [
    "Q4. Categorise the following datasets with respect to quantitative and qualitative data types:\n",
    "(i) Grading in exam: A+, A, B+, B, C+, C, D, E\n",
    "(ii) Colour of mangoes: yellow, green, orange, red\n",
    "(iii) Height data of a class: [178.9, 179, 179.5, 176, 177.2, 178.3, 175.8,...]\n",
    "(iv) Number of mangoes exported by a farm: [500, 600, 478, 672, ...]"
   ]
  },
  {
   "cell_type": "markdown",
   "id": "046a57f9",
   "metadata": {},
   "source": [
    "1.(i) qualitative:\n",
    "    (i) Grading in exam: A+, A, B+, B, C+, C, D, E\n",
    "(ii) Colour of mangoes: yellow, green, orange, red\n",
    "\n",
    "    \n",
    "2.quantitavie:\n",
    "    iii) Height data of a class: [178.9, 179, 179.5, 176, 177.2, 178.3, 175.8,...]\n",
    "(iv) Number of mangoes exported by a farm: [500, 600, 478, 672, ...]"
   ]
  },
  {
   "cell_type": "raw",
   "id": "2f460158",
   "metadata": {},
   "source": [
    "Q5. Explain the concept of levels of measurement and give an example of a variable for each level."
   ]
  },
  {
   "cell_type": "markdown",
   "id": "672a4520",
   "metadata": {},
   "source": [
    "The concept of levels of measurement, also known as scales of measurement or data types, is a framework used to categorize and describe different types of variables based on their characteristics and the level of information they provide. There are four commonly recognized levels of measurement: nominal, ordinal, interval, and ratio.\n",
    "\n",
    "\n",
    "1.Nominal Level:\n",
    "At the nominal level, variables are categorized into distinct groups or categories, and no quantitative value or order is implied. Nominal variables have no inherent numerical meaning. Examples include:\n",
    "Gender: Male, Female.\n",
    "Eye color: Blue, Brown, Green.\n",
    "Country of residence: USA, Canada, Australia.\n",
    "    \n",
    "    \n",
    "2.Ordinal Level:\n",
    "Ordinal variables have categories that can be ordered or ranked based on some criteria, but the differences between categories may not be uniform or quantifiable. Examples include:\n",
    "Educational attainment: High School Diploma, Bachelor's Degree, Master's Degree (Higher level of education implies a higher rank, but the differences between the categories are not necessarily equal).\n",
    "Survey responses indicating preference: Strongly Disagree, Disagree, Neutral, Agree, Strongly Agree (The order implies a preference ranking, but the difference between each response is not necessarily the same).\n",
    "\n",
    "\n",
    "3.Interval Level:\n",
    "Interval variables have ordered categories with uniform intervals between them, but they lack a true zero point. Differences between values are meaningful, but ratios are not. Examples include:\n",
    "Temperature in Celsius or Fahrenheit: 20°C, 30°C, 40°C (The differences between temperature values are meaningful, but zero degrees does not indicate the complete absence of temperature).\n",
    "Years: 1990, 2000, 2010 (The differences between years are meaningful, but zero does not represent the absence of time).\n",
    "\n",
    "\n",
    "4.Ratio Level:The ratio level of measurement is the highest level, possessing all the characteristics of the previous levels—distinct categories, an inherent order, equal intervals—and additionally, it has a meaningful zero point. Variables at this level allow for meaningful ratios and arithmetic operations. Examples of ratio variables include height, weight, and time. For instance, if someone's weight is measured as zero, it indicates the absence of weight."
   ]
  },
  {
   "cell_type": "raw",
   "id": "ac5c559b",
   "metadata": {},
   "source": [
    "Q6. Why is it important to understand the level of measurement when analyzing data? Provide an\n",
    "example to illustrate your answer."
   ]
  },
  {
   "cell_type": "markdown",
   "id": "2e3ea675",
   "metadata": {},
   "source": [
    "Understanding the level of measurement of variables is crucial when analyzing data because it determines the appropriate statistical techniques and operations that can be applied to the data. It helps in choosing the correct summary statistics, data visualizations, and inferential tests, ensuring accurate and meaningful interpretation of the results. Here's an example to illustrate its importance:\n",
    "\n",
    "Let's consider a research study examining the effectiveness of different teaching methods on students' academic performance. The study collects data on various variables, including the teaching method used (nominal), students' self-rated satisfaction with the course (ordinal), their test scores (interval), and the number of hours they spent studying (ratio)."
   ]
  },
  {
   "cell_type": "raw",
   "id": "b752c5b6",
   "metadata": {},
   "source": [
    "Q7. How nominal data type is different from ordinal data type."
   ]
  },
  {
   "cell_type": "markdown",
   "id": "09a41fe8",
   "metadata": {},
   "source": [
    "Nature of Data: Nominal data is characterized by categorical variables that are labeled or named with no inherent order or ranking. The categories are distinct and mutually exclusive, but they do not have any numerical value or implied order. In contrast, ordinal data also represents categorical variables, but they have an inherent order or ranking among the categories. The order may be based on preferences, rankings, or levels of agreement/disagreement.\n",
    "\n",
    "Measurement Scale: Nominal data is measured on a nominal scale, which means that the values represent different categories without any numerical significance. The numbers assigned to the categories are arbitrary and used solely for identification purposes. In ordinal data, the categories are also labeled or named, but they represent a meaningful order or rank. The numerical values assigned to the categories indicate the relative position or rank of the categories but not the magnitude of the differences between them.\n",
    "\n",
    "Analytical Possibilities: In nominal data, statistical analysis mainly involves descriptive techniques, such as frequency counts, mode, and cross-tabulations. It is used to examine the distribution and relationships among the categories. In contrast, ordinal data allows for more advanced statistical analysis. Besides descriptive techniques, ordinal data can be used in inferential statistical tests like the Mann-Whitney U test, Wilcoxon signed-rank test, or Spearman's rank correlation, which take into account the order or ranking of the categories.\n",
    "\n",
    "Operations: Nominal data does not permit arithmetic operations, as the numbers assigned to the categories lack numerical significance. It is inappropriate to calculate measures such as the mean or standard deviation for nominal variables. On the other hand, in ordinal data, certain operations can be performed to examine the direction and magnitude of the order. For example, you can determine whether one category is ranked higher or lower than another, calculate medians, or perform non-parametric test that compares the rank between the groups"
   ]
  },
  {
   "cell_type": "raw",
   "id": "b52455b8",
   "metadata": {},
   "source": [
    "Q8. Which type of plot can be used to display data in terms of range?"
   ]
  },
  {
   "cell_type": "markdown",
   "id": "b5610491",
   "metadata": {},
   "source": [
    "To display data in terms of range, a common plot used is the range plot or range chart. The range plot visually represents the minimum and maximum values of a variable or a set of data points. It helps in visualizing the spread or variability of the data.\n",
    "\n",
    "The range plot typically consists of a line or bar representing the range between the minimum and maximum values. It can be used for a single variable or to compare ranges across different groups or categories. The plot may also include additional information, such as the mean or median values."
   ]
  },
  {
   "cell_type": "raw",
   "id": "09e51a75",
   "metadata": {},
   "source": [
    "Q9. Describe the difference between descriptive and inferential statistics. Give an example of each\n",
    "type of statistics and explain how they are used."
   ]
  },
  {
   "cell_type": "markdown",
   "id": "502b36b3",
   "metadata": {},
   "source": [
    "Descriptive Statistics:\n",
    "Descriptive statistics involves the summary and organization of data to provide a clear and concise description of the main features, patterns, and characteristics of a dataset. It aims to provide an overview and insights into the data without drawing any conclusions beyond the sample itself.\n",
    "Example: Let's consider a dataset consisting of the heights of a group of individuals. Descriptive statistics can be used to calculate measures such as the mean height, median height, standard deviation, and range. These statistics summarize the central tendency, variability, and distribution of the heights within the dataset.\n",
    "\n",
    "Uses: Descriptive statistics are used to simplify complex data and present it in a meaningful and interpretable manner. They help in understanding the basic properties of a dataset, identifying patterns, and gaining initial insights. Descriptive statistics are often used in research studies, reporting findings, data visualization, and exploratory data analysis.\n",
    "\n",
    "Inferential Statistics:\n",
    "Inferential statistics involves drawing conclusions, making predictions, or generalizing findings from a sample to a larger population. It utilizes probability theory and statistical inference to make inferences and estimate population parameters based on sample data.\n",
    "Example: Suppose you are conducting a study to compare the average test scores of two groups of students: Group A and Group B. You collect data from a sample of students from each group and use inferential statistics to determine if there is a significant difference in the means of the two groups. This could involve performing a t-test or analysis of variance (ANOVA) to assess the statistical significance of the difference.\n",
    "\n",
    "Uses: Inferential statistics allows researchers to make inferences beyond the observed data and draw conclusions about the population from which the sample was drawn. It is used to test hypotheses, make predictions, determine relationships between variables, and generalize findings to larger populations. Inferential statistics play a crucial role in research, hypothesis testing, decision-making, and providing evidence-based conclusions."
   ]
  },
  {
   "cell_type": "raw",
   "id": "de1f1167",
   "metadata": {},
   "source": [
    "Q10. What are some common measures of central tendency and variability used in statistics? Explain\n",
    "how each measure can be used to describe a dataset."
   ]
  },
  {
   "cell_type": "markdown",
   "id": "2a4eca93",
   "metadata": {},
   "source": [
    "Measures of Central Tendency:\n",
    "\n",
    "Mean: The mean is the arithmetic average of a dataset and is calculated by summing all the values and dividing by the total number of observations. It provides a measure of the center of the data.\n",
    "Uses: The mean is commonly used to describe the typical or average value in a dataset. It is useful for symmetrical distributions without extreme outliers. For example, the mean can be used to represent the average income in a population.\n",
    "\n",
    "Median: The median is the middle value in an ordered dataset. It divides the dataset into two equal halves, with 50% of the values above and 50% below it.\n",
    "Uses: The median is robust to extreme values and is a better measure of central tendency for skewed distributions or datasets with outliers. It is commonly used to describe the central value in income distributions or housing prices.\n",
    "\n",
    "Mode: The mode is the most frequently occurring value or values in a dataset.\n",
    "Uses: The mode is useful for categorical or discrete data. It provides information about the most common category or value. For example, the mode can be used to identify the most popular choice among survey respondents.\n",
    "\n",
    "Measures of Variability:\n",
    "\n",
    "Range: The range is the difference between the maximum and minimum values in a dataset.\n",
    "Uses: The range provides a simple measure of the spread or variability in a dataset. However, it is sensitive to extreme values and may not accurately represent the overall dispersion.\n",
    "\n",
    "Variance: The variance measures the average squared deviation from the mean. It calculates the average of the squared differences between each data point and the mean.\n",
    "Uses: Variance quantifies the spread of data and provides an understanding of how the data points vary around the mean. It is commonly used in various statistical analyses and calculations, such as standard deviation.\n",
    "\n",
    "Standard Deviation: The standard deviation is the square root of the variance. It measures the average distance between each data point and the mean.\n",
    "Uses: The standard deviation is widely used to describe the dispersion or variability in a dataset. It provides a more interpretable measure compared to variance, as it is in the original unit of measurement. It is commonly used in inferential statistics and to identify outliers."
   ]
  },
  {
   "cell_type": "markdown",
   "id": "4e8826f8",
   "metadata": {},
   "source": [
    "Mean:\n",
    "\n",
    "Definition: The mean is the average of a dataset, calculated by summing all the values and dividing by the total number of observations.\n",
    "Calculation: Mean = (Sum of all values) / (Total number of observations)\n",
    "Use: The mean is commonly used when the dataset is approximately symmetric or normally distributed. It provides a representative value that considers all the data points. The mean is sensitive to extreme values, as they can greatly influence its value.\n",
    "Median:\n",
    "\n",
    "Definition: The median is the middle value in an ordered dataset. It separates the dataset into two equal halves, with 50% of the values above and 50% below it.\n",
    "Calculation: To find the median, the dataset must be sorted in ascending or descending order. If there is an odd number of observations, the median is the value at the exact middle position. If there is an even number of observations, the median is the average of the two middle values.\n",
    "Use: The median is preferred when the dataset is skewed or has outliers. It is a robust measure of central tendency that is not significantly affected by extreme values. The median provides a value that represents the \"typical\" position in the dataset.\n",
    "Mode:\n",
    "\n",
    "Definition: The mode is the value or values that appear most frequently in a dataset.\n",
    "Calculation: The mode is determined by identifying the value(s) with the highest frequency or count.\n",
    "Use: The mode is useful for datasets with categorical or discrete variables. It represents the most common or dominant value. The mode is particularly helpful when describing the peak(s) or the most frequent occurrence(s) in a distribution."
   ]
  },
  {
   "cell_type": "code",
   "execution_count": 6,
   "id": "d6e6e49b",
   "metadata": {},
   "outputs": [],
   "source": [
    "import numpy as np"
   ]
  },
  {
   "cell_type": "code",
   "execution_count": 7,
   "id": "70f907e3",
   "metadata": {},
   "outputs": [],
   "source": [
    "l=[122,245,17,23,133,45,166]"
   ]
  },
  {
   "cell_type": "code",
   "execution_count": 8,
   "id": "56c83f69",
   "metadata": {},
   "outputs": [
    {
     "data": {
      "text/plain": [
       "107.28571428571429"
      ]
     },
     "execution_count": 8,
     "metadata": {},
     "output_type": "execute_result"
    }
   ],
   "source": [
    "np.mean(l)"
   ]
  },
  {
   "cell_type": "code",
   "execution_count": 9,
   "id": "9313b058",
   "metadata": {},
   "outputs": [],
   "source": [
    "from scipy import stats"
   ]
  },
  {
   "cell_type": "code",
   "execution_count": 10,
   "id": "e4225bd4",
   "metadata": {},
   "outputs": [
    {
     "data": {
      "text/plain": [
       "ModeResult(mode=array([17]), count=array([1]))"
      ]
     },
     "execution_count": 10,
     "metadata": {},
     "output_type": "execute_result"
    }
   ],
   "source": [
    "stats.mode(l)"
   ]
  },
  {
   "cell_type": "code",
   "execution_count": 12,
   "id": "c9a72c74",
   "metadata": {},
   "outputs": [
    {
     "data": {
      "text/plain": [
       "122.0"
      ]
     },
     "execution_count": 12,
     "metadata": {},
     "output_type": "execute_result"
    }
   ],
   "source": [
    "np.median(l)"
   ]
  },
  {
   "cell_type": "code",
   "execution_count": null,
   "id": "dd2794f0",
   "metadata": {},
   "outputs": [],
   "source": []
  }
 ],
 "metadata": {
  "kernelspec": {
   "display_name": "Python 3 (ipykernel)",
   "language": "python",
   "name": "python3"
  },
  "language_info": {
   "codemirror_mode": {
    "name": "ipython",
    "version": 3
   },
   "file_extension": ".py",
   "mimetype": "text/x-python",
   "name": "python",
   "nbconvert_exporter": "python",
   "pygments_lexer": "ipython3",
   "version": "3.9.12"
  }
 },
 "nbformat": 4,
 "nbformat_minor": 5
}
